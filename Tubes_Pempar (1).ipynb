{
  "cells": [
    {
      "cell_type": "markdown",
      "metadata": {
        "id": "xm2BgSwrb61O"
      },
      "source": [
        "# Big Assignment of Parallel Processing (Class A)\n",
        "## Sales Transaction Data Analysis Using Pyspark\n",
        "1. Michael Effendy (F1D022012)\n",
        "2. Dara Finas Elen (F1D022038)\n",
        "3. Nazila Imkani (F1D022084)\n",
        "4. Wahyuni Sulastri (F1D022101)\n",
        "5. Fadila Ramdhani Muaz (F1D022119)\n",
        "\n",
        "Kaggle link for the dataset: https://www.kaggle.com/datasets/gabrielramos87/an-online-shop-business\n",
        "\n",
        "Link for another google colab (without parallel processing) for time comparison: https://colab.research.google.com/drive/1anYJgJyB-b6BosFu6QP9GR9_TImEgLjO#scrollTo=tJSkWAhxqU68"
      ]
    },
    {
      "cell_type": "code",
      "execution_count": 3,
      "metadata": {
        "colab": {
          "base_uri": "https://localhost:8080/"
        },
        "id": "200OpIj5fS43",
        "outputId": "0b299341-e6ef-4cb7-e4a7-d05e34f21713"
      },
      "outputs": [
        {
          "name": "stdout",
          "output_type": "stream",
          "text": [
            "1.7\n"
          ]
        }
      ],
      "source": [
        "import psutil\n",
        "print(psutil.cpu_percent())"
      ]
    },
    {
      "cell_type": "code",
      "execution_count": 3,
      "metadata": {
        "colab": {
          "base_uri": "https://localhost:8080/"
        },
        "id": "MdnGA0QqYQar",
        "outputId": "684200c8-3197-4e71-f70a-5654e821bcf5"
      },
      "outputs": [
        {
          "name": "stdout",
          "output_type": "stream",
          "text": [
            "Requirement already satisfied: pyspark in c:\\users\\yoga7.rakasya\\appdata\\local\\packages\\pythonsoftwarefoundation.python.3.11_qbz5n2kfra8p0\\localcache\\local-packages\\python311\\site-packages (4.0.0)\n",
            "Requirement already satisfied: py4j==0.10.9.9 in c:\\users\\yoga7.rakasya\\appdata\\local\\packages\\pythonsoftwarefoundation.python.3.11_qbz5n2kfra8p0\\localcache\\local-packages\\python311\\site-packages (from pyspark) (0.10.9.9)\n",
            "Note: you may need to restart the kernel to use updated packages.\n"
          ]
        },
        {
          "name": "stderr",
          "output_type": "stream",
          "text": [
            "\n",
            "[notice] A new release of pip is available: 25.0.1 -> 25.1.1\n",
            "[notice] To update, run: C:\\Users\\yoga7.RAKASYA\\AppData\\Local\\Microsoft\\WindowsApps\\PythonSoftwareFoundation.Python.3.11_qbz5n2kfra8p0\\python.exe -m pip install --upgrade pip\n"
          ]
        },
        {
          "name": "stdout",
          "output_type": "stream",
          "text": [
            "Requirement already satisfied: mpi4py in c:\\users\\yoga7.rakasya\\appdata\\local\\packages\\pythonsoftwarefoundation.python.3.11_qbz5n2kfra8p0\\localcache\\local-packages\\python311\\site-packages (4.0.3)\n",
            "Note: you may need to restart the kernel to use updated packages.\n"
          ]
        },
        {
          "name": "stderr",
          "output_type": "stream",
          "text": [
            "\n",
            "[notice] A new release of pip is available: 25.0.1 -> 25.1.1\n",
            "[notice] To update, run: C:\\Users\\yoga7.RAKASYA\\AppData\\Local\\Microsoft\\WindowsApps\\PythonSoftwareFoundation.Python.3.11_qbz5n2kfra8p0\\python.exe -m pip install --upgrade pip\n"
          ]
        },
        {
          "ename": "NameError",
          "evalue": "name 'psutil' is not defined",
          "output_type": "error",
          "traceback": [
            "\u001b[31m---------------------------------------------------------------------------\u001b[39m",
            "\u001b[31mNameError\u001b[39m                                 Traceback (most recent call last)",
            "\u001b[36mCell\u001b[39m\u001b[36m \u001b[39m\u001b[32mIn[3]\u001b[39m\u001b[32m, line 3\u001b[39m\n\u001b[32m      1\u001b[39m get_ipython().run_line_magic(\u001b[33m'\u001b[39m\u001b[33mpip\u001b[39m\u001b[33m'\u001b[39m, \u001b[33m'\u001b[39m\u001b[33minstall pyspark\u001b[39m\u001b[33m'\u001b[39m)\n\u001b[32m      2\u001b[39m get_ipython().run_line_magic(\u001b[33m'\u001b[39m\u001b[33mpip\u001b[39m\u001b[33m'\u001b[39m, \u001b[33m'\u001b[39m\u001b[33minstall mpi4py\u001b[39m\u001b[33m'\u001b[39m)\n\u001b[32m----> \u001b[39m\u001b[32m3\u001b[39m \u001b[38;5;28mprint\u001b[39m(\u001b[43mpsutil\u001b[49m.cpu_percent())\n",
            "\u001b[31mNameError\u001b[39m: name 'psutil' is not defined"
          ]
        }
      ],
      "source": [
        "%pip install pyspark\n",
        "%pip install mpi4py\n",
        "print(psutil.cpu_percent())"
      ]
    },
    {
      "cell_type": "code",
      "execution_count": 5,
      "metadata": {
        "colab": {
          "base_uri": "https://localhost:8080/"
        },
        "id": "csNk3HyffLnd",
        "outputId": "0cff6aa7-cdd7-440d-db33-08517a1cc568"
      },
      "outputs": [
        {
          "ename": "RuntimeError",
          "evalue": "cannot load MPI library\nCould not find module 'C:\\Users\\yoga7.RAKASYA\\AppData\\Local\\Packages\\PythonSoftwareFoundation.Python.3.11_qbz5n2kfra8p0\\LocalCache\\local-packages\\DLLs' (or one of its dependencies). Try using the full path with constructor syntax.\nCould not find module 'C:\\Users\\yoga7.RAKASYA\\AppData\\Local\\Packages\\PythonSoftwareFoundation.Python.3.11_qbz5n2kfra8p0\\LocalCache\\local-packages\\Library\\bin' (or one of its dependencies). Try using the full path with constructor syntax.\nCould not find module 'C:\\Program Files\\WindowsApps\\PythonSoftwareFoundation.Python.3.11_3.11.2544.0_x64__qbz5n2kfra8p0\\DLLs\\impi.dll' (or one of its dependencies). Try using the full path with constructor syntax.\nCould not find module 'C:\\Program Files\\WindowsApps\\PythonSoftwareFoundation.Python.3.11_3.11.2544.0_x64__qbz5n2kfra8p0\\DLLs\\msmpi.dll' (or one of its dependencies). Try using the full path with constructor syntax.\nCould not find module 'C:\\Program Files\\WindowsApps\\PythonSoftwareFoundation.Python.3.11_3.11.2544.0_x64__qbz5n2kfra8p0\\Library\\bin' (or one of its dependencies). Try using the full path with constructor syntax.\nCould not find module 'impi.dll' (or one of its dependencies). Try using the full path with constructor syntax.\nCould not find module 'msmpi.dll' (or one of its dependencies). Try using the full path with constructor syntax.",
          "output_type": "error",
          "traceback": [
            "\u001b[31m---------------------------------------------------------------------------\u001b[39m",
            "\u001b[31mRuntimeError\u001b[39m                              Traceback (most recent call last)",
            "\u001b[36mCell\u001b[39m\u001b[36m \u001b[39m\u001b[32mIn[5]\u001b[39m\u001b[32m, line 1\u001b[39m\n\u001b[32m----> \u001b[39m\u001b[32m1\u001b[39m \u001b[38;5;28;01mfrom\u001b[39;00m\u001b[38;5;250m \u001b[39m\u001b[34;01mmpi4py\u001b[39;00m\u001b[38;5;250m \u001b[39m\u001b[38;5;28;01mimport\u001b[39;00m MPI\n\u001b[32m      2\u001b[39m \u001b[38;5;28;01mfrom\u001b[39;00m\u001b[38;5;250m \u001b[39m\u001b[34;01mpyspark\u001b[39;00m\u001b[34;01m.\u001b[39;00m\u001b[34;01msql\u001b[39;00m\u001b[38;5;250m \u001b[39m\u001b[38;5;28;01mimport\u001b[39;00m SparkSession\n\u001b[32m      3\u001b[39m \u001b[38;5;28;01mimport\u001b[39;00m\u001b[38;5;250m \u001b[39m\u001b[34;01mpandas\u001b[39;00m\u001b[38;5;250m \u001b[39m\u001b[38;5;28;01mas\u001b[39;00m\u001b[38;5;250m \u001b[39m\u001b[34;01mpd\u001b[39;00m\n",
            "\u001b[36mFile \u001b[39m\u001b[32m<frozen importlib._bootstrap>:1176\u001b[39m, in \u001b[36m_find_and_load\u001b[39m\u001b[34m(name, import_)\u001b[39m\n",
            "\u001b[36mFile \u001b[39m\u001b[32m<frozen importlib._bootstrap>:1138\u001b[39m, in \u001b[36m_find_and_load_unlocked\u001b[39m\u001b[34m(name, import_)\u001b[39m\n",
            "\u001b[36mFile \u001b[39m\u001b[32m<frozen importlib._bootstrap>:1078\u001b[39m, in \u001b[36m_find_spec\u001b[39m\u001b[34m(name, path, target)\u001b[39m\n",
            "\u001b[36mFile \u001b[39m\u001b[32m~\\AppData\\Local\\Packages\\PythonSoftwareFoundation.Python.3.11_qbz5n2kfra8p0\\LocalCache\\local-packages\\Python311\\site-packages\\mpi4py\\_mpiabi.py:246\u001b[39m, in \u001b[36m_Finder.find_spec\u001b[39m\u001b[34m(cls, fullname, path, target)\u001b[39m\n\u001b[32m    244\u001b[39m \u001b[38;5;250m\u001b[39m\u001b[33;03m\"\"\"Find MPI ABI extension module spec.\"\"\"\u001b[39;00m\n\u001b[32m    245\u001b[39m \u001b[38;5;66;03m# pylint: disable=unused-argument\u001b[39;00m\n\u001b[32m--> \u001b[39m\u001b[32m246\u001b[39m mpiabi_suffix = \u001b[43m_get_mpiabi_suffix\u001b[49m\u001b[43m(\u001b[49m\u001b[43mfullname\u001b[49m\u001b[43m)\u001b[49m\n\u001b[32m    247\u001b[39m \u001b[38;5;28;01mif\u001b[39;00m mpiabi_suffix \u001b[38;5;129;01mis\u001b[39;00m \u001b[38;5;28;01mNone\u001b[39;00m:\n\u001b[32m    248\u001b[39m     \u001b[38;5;28;01mreturn\u001b[39;00m \u001b[38;5;28;01mNone\u001b[39;00m\n",
            "\u001b[36mFile \u001b[39m\u001b[32m~\\AppData\\Local\\Packages\\PythonSoftwareFoundation.Python.3.11_qbz5n2kfra8p0\\LocalCache\\local-packages\\Python311\\site-packages\\mpi4py\\_mpiabi.py:228\u001b[39m, in \u001b[36m_get_mpiabi_suffix\u001b[39m\u001b[34m(module)\u001b[39m\n\u001b[32m    226\u001b[39m \u001b[38;5;28;01mif\u001b[39;00m module \u001b[38;5;129;01mnot\u001b[39;00m \u001b[38;5;129;01min\u001b[39;00m _registry:\n\u001b[32m    227\u001b[39m     \u001b[38;5;28;01mreturn\u001b[39;00m \u001b[38;5;28;01mNone\u001b[39;00m\n\u001b[32m--> \u001b[39m\u001b[32m228\u001b[39m version, family = \u001b[43m_get_mpiabi\u001b[49m\u001b[43m(\u001b[49m\u001b[43m)\u001b[49m\n\u001b[32m    229\u001b[39m versions = _registry[module].get(family)\n\u001b[32m    230\u001b[39m \u001b[38;5;28;01mif\u001b[39;00m versions:\n",
            "\u001b[36mFile \u001b[39m\u001b[32m~\\AppData\\Local\\Packages\\PythonSoftwareFoundation.Python.3.11_qbz5n2kfra8p0\\LocalCache\\local-packages\\Python311\\site-packages\\mpi4py\\_mpiabi.py:209\u001b[39m, in \u001b[36m_get_mpiabi\u001b[39m\u001b[34m()\u001b[39m\n\u001b[32m    207\u001b[39m     version, family = _get_mpiabi_from_string(string)\n\u001b[32m    208\u001b[39m \u001b[38;5;28;01melse\u001b[39;00m:\n\u001b[32m--> \u001b[39m\u001b[32m209\u001b[39m     version, family = \u001b[43m_get_mpiabi_from_libmpi\u001b[49m\u001b[43m(\u001b[49m\u001b[43mlibmpi\u001b[49m\u001b[43m)\u001b[49m\n\u001b[32m    210\u001b[39m _get_mpiabi.version = version  \u001b[38;5;66;03m# pyright: ignore\u001b[39;00m\n\u001b[32m    211\u001b[39m _get_mpiabi.family = family  \u001b[38;5;66;03m# pyright: ignore\u001b[39;00m\n",
            "\u001b[36mFile \u001b[39m\u001b[32m~\\AppData\\Local\\Packages\\PythonSoftwareFoundation.Python.3.11_qbz5n2kfra8p0\\LocalCache\\local-packages\\Python311\\site-packages\\mpi4py\\_mpiabi.py:153\u001b[39m, in \u001b[36m_get_mpiabi_from_libmpi\u001b[39m\u001b[34m(libmpi)\u001b[39m\n\u001b[32m    150\u001b[39m \u001b[38;5;28;01mdef\u001b[39;00m\u001b[38;5;250m \u001b[39m\u001b[34m_get_mpiabi_from_libmpi\u001b[39m(libmpi=\u001b[38;5;28;01mNone\u001b[39;00m):\n\u001b[32m    151\u001b[39m     \u001b[38;5;66;03m# pylint: disable=import-outside-toplevel\u001b[39;00m\n\u001b[32m    152\u001b[39m     \u001b[38;5;28;01mimport\u001b[39;00m\u001b[38;5;250m \u001b[39m\u001b[34;01mctypes\u001b[39;00m\u001b[38;5;250m \u001b[39m\u001b[38;5;28;01mas\u001b[39;00m\u001b[38;5;250m \u001b[39m\u001b[34;01mct\u001b[39;00m\n\u001b[32m--> \u001b[39m\u001b[32m153\u001b[39m     lib = \u001b[43m_dlopen_libmpi\u001b[49m\u001b[43m(\u001b[49m\u001b[43mlibmpi\u001b[49m\u001b[43m)\u001b[49m\n\u001b[32m    154\u001b[39m     lib.MPI_Get_version.restype = ct.c_int\n\u001b[32m    155\u001b[39m     lib.MPI_Get_version.argtypes = [ct.POINTER(ct.c_int)] * \u001b[32m2\u001b[39m\n",
            "\u001b[36mFile \u001b[39m\u001b[32m~\\AppData\\Local\\Packages\\PythonSoftwareFoundation.Python.3.11_qbz5n2kfra8p0\\LocalCache\\local-packages\\Python311\\site-packages\\mpi4py\\_mpiabi.py:144\u001b[39m, in \u001b[36m_dlopen_libmpi\u001b[39m\u001b[34m(libmpi)\u001b[39m\n\u001b[32m    142\u001b[39m     \u001b[38;5;28;01mexcept\u001b[39;00m \u001b[38;5;167;01mAttributeError\u001b[39;00m \u001b[38;5;28;01mas\u001b[39;00m exc:\n\u001b[32m    143\u001b[39m         errors.append(\u001b[38;5;28mstr\u001b[39m(exc))\n\u001b[32m--> \u001b[39m\u001b[32m144\u001b[39m \u001b[38;5;28;01mraise\u001b[39;00m \u001b[38;5;167;01mRuntimeError\u001b[39;00m(\u001b[33m\"\u001b[39m\u001b[38;5;130;01m\\n\u001b[39;00m\u001b[33m\"\u001b[39m.join(errors))\n",
            "\u001b[31mRuntimeError\u001b[39m: cannot load MPI library\nCould not find module 'C:\\Users\\yoga7.RAKASYA\\AppData\\Local\\Packages\\PythonSoftwareFoundation.Python.3.11_qbz5n2kfra8p0\\LocalCache\\local-packages\\DLLs' (or one of its dependencies). Try using the full path with constructor syntax.\nCould not find module 'C:\\Users\\yoga7.RAKASYA\\AppData\\Local\\Packages\\PythonSoftwareFoundation.Python.3.11_qbz5n2kfra8p0\\LocalCache\\local-packages\\Library\\bin' (or one of its dependencies). Try using the full path with constructor syntax.\nCould not find module 'C:\\Program Files\\WindowsApps\\PythonSoftwareFoundation.Python.3.11_3.11.2544.0_x64__qbz5n2kfra8p0\\DLLs\\impi.dll' (or one of its dependencies). Try using the full path with constructor syntax.\nCould not find module 'C:\\Program Files\\WindowsApps\\PythonSoftwareFoundation.Python.3.11_3.11.2544.0_x64__qbz5n2kfra8p0\\DLLs\\msmpi.dll' (or one of its dependencies). Try using the full path with constructor syntax.\nCould not find module 'C:\\Program Files\\WindowsApps\\PythonSoftwareFoundation.Python.3.11_3.11.2544.0_x64__qbz5n2kfra8p0\\Library\\bin' (or one of its dependencies). Try using the full path with constructor syntax.\nCould not find module 'impi.dll' (or one of its dependencies). Try using the full path with constructor syntax.\nCould not find module 'msmpi.dll' (or one of its dependencies). Try using the full path with constructor syntax."
          ]
        }
      ],
      "source": [
        "from mpi4py import MPI\n",
        "from pyspark.sql import SparkSession\n",
        "import pandas as pd\n",
        "import numpy as np\n",
        "print(psutil.cpu_percent())"
      ]
    },
    {
      "cell_type": "code",
      "execution_count": 4,
      "metadata": {
        "colab": {
          "base_uri": "https://localhost:8080/"
        },
        "id": "KGjl7HcEfNpR",
        "outputId": "6fb5a90b-f892-4340-e1cf-8207eaf37376"
      },
      "outputs": [
        {
          "name": "stdout",
          "output_type": "stream",
          "text": [
            "1.8\n"
          ]
        }
      ],
      "source": [
        "spark = SparkSession.builder.appName(\"Game Sales Analysis\").getOrCreate()\n",
        "print(psutil.cpu_percent())"
      ]
    },
    {
      "cell_type": "code",
      "execution_count": null,
      "metadata": {
        "id": "Li4C8f_4tS4S"
      },
      "outputs": [],
      "source": [
        "import time\n",
        "mulai_ukur = time.time()"
      ]
    },
    {
      "cell_type": "code",
      "execution_count": 5,
      "metadata": {
        "colab": {
          "base_uri": "https://localhost:8080/"
        },
        "id": "Y4hRJCx2fPph",
        "outputId": "031b9bf7-3b62-4745-de48-e3cf55acdbd3"
      },
      "outputs": [
        {
          "name": "stdout",
          "output_type": "stream",
          "text": [
            "2.0\n"
          ]
        }
      ],
      "source": [
        "df = spark.read.csv(\"game_info.csv\", header=True, inferSchema=True)\n",
        "print(psutil.cpu_percent())"
      ]
    },
    {
      "cell_type": "code",
      "execution_count": 7,
      "metadata": {
        "colab": {
          "base_uri": "https://localhost:8080/"
        },
        "id": "rD-F-8mcfvYE",
        "outputId": "aab08827-7506-4371-be98-9e21264f946f"
      },
      "outputs": [
        {
          "name": "stdout",
          "output_type": "stream",
          "text": [
            "+------+--------------------+--------------------+----------+----------+-----+-------------------+--------------------+------+----------+--------+------------------+-------------+-----------------+-----------------+-------------+--------------------+--------------------+--------------------+--------------------+------------+----------------+------------------+-------------------+-------------------+--------------------+--------------------+\n",
            "|    id|                slug|                name|metacritic|  released|  tba|            updated|             website|rating|rating_top|playtime|achievements_count|ratings_count|suggestions_count|game_series_count|reviews_count|           platforms|          developers|              genres|          publishers| esrb_rating|added_status_yet|added_status_owned|added_status_beaten|added_status_toplay|added_status_dropped|added_status_playing|\n",
            "+------+--------------------+--------------------+----------+----------+-----+-------------------+--------------------+------+----------+--------+------------------+-------------+-----------------+-----------------+-------------+--------------------+--------------------+--------------------+--------------------+------------+----------------+------------------+-------------------+-------------------+--------------------+--------------------+\n",
            "|     1|      dgeneration-hd|     D/Generation HD|      NULL|2015-10-23|False|2019-09-17T11:58:57|http://dgeneratio...|   0.0|       0.0|     1.0|                80|            2|              292|                0|            4|PC||macOS||Xbox O...| West Coast Software|   Adventure||Puzzle| West Coast Software|Everyone 10+|               4|                88|                  2|                  2|                   0|                   0|\n",
            "|    10|             g-prime|G Prime Into The ...|      NULL|2016-01-06|False|2019-11-06T23:04:19|                NULL|   0.0|       0.0|     0.0|                26|            3|              389|                0|            3| macOS||PC||Xbox One|          Soma Games|   Simulation||Indie|Immanitas Enterta...|    Everyone|               2|                42|                  2|                  0|                   0|                   0|\n",
            "|   100|        land-sliders|        Land Sliders|      NULL|2015-09-24|False|2019-10-22T13:56:16|http://prettygrea...|   0.0|       0.0|     0.0|                 0|            2|               83|                0|            2|                 iOS|     Prettygreat Pty|   Adventure||Arcade|     Prettygreat Pty|Everyone 10+|               0|                 2|                  2|                  0|                   1|                   0|\n",
            "|  1000|          pixel-gear|          Pixel Gear|      NULL|2016-10-20|False|2019-08-28T22:16:02|https://www.faceb...|   0.0|       0.0|     0.0|                 0|            0|              455|                0|            0|   PC||PlayStation 4|Oasis Games||Gero...|       Action||Indie|Geronimo Interactive|        Teen|               0|                 1|                  0|                  0|                   0|                   0|\n",
            "| 10000|      gods-and-idols|      Gods and Idols|      NULL|2016-12-12|False|2019-09-17T13:37:13|http://www.godsan...|   0.0|       1.0|     1.0|                 0|            5|              262|                0|            5|                  PC|          Viking Tao|RPG||Strategy||Ma...|          Viking Tao|        NULL|               2|                79|                  0|                  0|                   0|                   0|\n",
            "|100000|        plague-venue|        Plague venue|      NULL|2017-12-02|False|2019-01-09T12:41:06|                NULL|   0.0|       0.0|     0.0|                 0|            0|               40|                0|            0|                 Web|Alexander Ponomariov|                NULL|                NULL|        NULL|               0|                 0|                  0|                  0|                   0|                   0|\n",
            "|100001|the-moon-sliver-itch|The Moon Sliver (...|      NULL|2014-05-03|False|2019-01-09T12:41:06|                NULL|   0.0|       0.0|     0.0|                 0|            0|              116|                0|            0|           PC||macOS|     David Szymanski|           Adventure|                NULL|        NULL|               0|                 0|                  0|                  0|                   0|                   0|\n",
            "|100002|          red-entity|          Red Entity|      NULL|2014-08-26|False|2019-01-09T12:41:06|                NULL|   0.0|       0.0|     0.0|                 0|            0|               39|                0|            0|    PC||macOS||Linux|                woof|     Action||Shooter|                NULL|        NULL|               0|                 0|                  0|                  0|                   0|                   0|\n",
            "|100004|       hippiesvscops|       HippiesVsCops|      NULL|2016-04-18|False|2019-08-28T23:25:11|                NULL|   0.0|       0.0|     0.0|                 0|            0|               26|                0|            0|                  PC|       alegaroficial|            Strategy|                NULL|        NULL|               0|                 0|                  0|                  0|                   0|                   0|\n",
            "|100005|they-came-through...|They Came Through...|      NULL|2018-06-24|False|2019-01-09T12:41:06|                NULL|   0.0|       0.0|     0.0|                 0|            0|               98|                0|            0|                  PC|        Atte Okkonen|          Platformer|                NULL|        NULL|               0|                 0|                  0|                  0|                   0|                   0|\n",
            "+------+--------------------+--------------------+----------+----------+-----+-------------------+--------------------+------+----------+--------+------------------+-------------+-----------------+-----------------+-------------+--------------------+--------------------+--------------------+--------------------+------------+----------------+------------------+-------------------+-------------------+--------------------+--------------------+\n",
            "only showing top 10 rows\n",
            "0.5\n"
          ]
        }
      ],
      "source": [
        "df.show(10)\n",
        "print(psutil.cpu_percent())"
      ]
    },
    {
      "cell_type": "code",
      "execution_count": 9,
      "metadata": {
        "colab": {
          "base_uri": "https://localhost:8080/"
        },
        "id": "XnKHeKjRf0zi",
        "outputId": "e48a1ceb-ed30-40c5-c91d-ef46b32372f5"
      },
      "outputs": [
        {
          "name": "stdout",
          "output_type": "stream",
          "text": [
            "0.7\n"
          ]
        }
      ],
      "source": [
        "df.createOrReplaceTempView(\"sales\")\n",
        "print(psutil.cpu_percent())"
      ]
    },
    {
      "cell_type": "code",
      "execution_count": null,
      "metadata": {},
      "outputs": [],
      "source": [
        "comm = MPI.COMM_WORLD\n",
        "rank = comm.Get_rank()\n",
        "size = comm.Get_size()\n",
        "\n",
        "# Load CSV hanya di rank 0\n",
        "df = None\n",
        "if rank == 0:\n",
        "    df = pd.read_csv(\"games.csv\")\n",
        "    chunks = np.array_split(df, size)\n",
        "else:\n",
        "    chunks = None\n",
        "\n",
        "# Broadcast potongan data\n",
        "local_chunk = comm.scatter(chunks, root=0)\n",
        "\n",
        "# FILTER: metacritic > 80\n",
        "filtered_chunk = local_chunk[local_chunk[\"metacritic\"] > 80]\n",
        "\n",
        "# REDUCE: jumlah ratings_count\n",
        "local_sum = filtered_chunk[\"ratings_count\"].sum()\n",
        "total_sum = comm.reduce(local_sum, op=MPI.SUM, root=0)\n",
        "\n",
        "if rank == 0:\n",
        "    print(\"Total ratings_count untuk metacritic > 80:\", total_sum)\n"
      ]
    }
  ],
  "metadata": {
    "colab": {
      "provenance": []
    },
    "kernelspec": {
      "display_name": "Python 3",
      "name": "python3"
    },
    "language_info": {
      "codemirror_mode": {
        "name": "ipython",
        "version": 3
      },
      "file_extension": ".py",
      "mimetype": "text/x-python",
      "name": "python",
      "nbconvert_exporter": "python",
      "pygments_lexer": "ipython3",
      "version": "3.11.9"
    }
  },
  "nbformat": 4,
  "nbformat_minor": 0
}
