{
  "nbformat": 4,
  "nbformat_minor": 0,
  "metadata": {
    "colab": {
      "provenance": []
    },
    "kernelspec": {
      "name": "python3",
      "display_name": "Python 3"
    },
    "language_info": {
      "name": "python"
    }
  },
  "cells": [
    {
      "cell_type": "markdown",
      "source": [
        "# Big Assignment of Parallel Processing (Class A)\n",
        "## Sales Transaction Data Analysis Using Pyspark\n",
        "1. Michael Effendy (F1D022012)\n",
        "2. Dara Finas Elen (F1D022038)\n",
        "3. Nazila Imkani (F1D022084)\n",
        "4. Wahyuni Sulastri (F1D022101)\n",
        "5. Fadila Ramdhani Muaz (F1D022119)\n",
        "\n",
        "Kaggle link for the dataset: https://www.kaggle.com/datasets/gabrielramos87/an-online-shop-business\n",
        "\n",
        "Link for another google colab (without parallel processing) for time comparison: https://colab.research.google.com/drive/1anYJgJyB-b6BosFu6QP9GR9_TImEgLjO#scrollTo=tJSkWAhxqU68"
      ],
      "metadata": {
        "id": "xm2BgSwrb61O"
      }
    },
    {
      "cell_type": "code",
      "source": [
        "import psutil\n",
        "print(psutil.cpu_percent())"
      ],
      "metadata": {
        "colab": {
          "base_uri": "https://localhost:8080/"
        },
        "id": "200OpIj5fS43",
        "outputId": "0b299341-e6ef-4cb7-e4a7-d05e34f21713"
      },
      "execution_count": null,
      "outputs": [
        {
          "output_type": "stream",
          "name": "stdout",
          "text": [
            "100.0\n"
          ]
        }
      ]
    },
    {
      "cell_type": "code",
      "execution_count": null,
      "metadata": {
        "colab": {
          "base_uri": "https://localhost:8080/"
        },
        "id": "MdnGA0QqYQar",
        "outputId": "684200c8-3197-4e71-f70a-5654e821bcf5"
      },
      "outputs": [
        {
          "output_type": "stream",
          "name": "stdout",
          "text": [
            "Requirement already satisfied: pyspark in /usr/local/lib/python3.10/dist-packages (3.5.1)\n",
            "Requirement already satisfied: py4j==0.10.9.7 in /usr/local/lib/python3.10/dist-packages (from pyspark) (0.10.9.7)\n",
            "75.2\n"
          ]
        }
      ],
      "source": [
        "!pip install pyspark\n",
        "print(psutil.cpu_percent())"
      ]
    },
    {
      "cell_type": "code",
      "source": [
        "from pyspark.sql import SparkSession\n",
        "print(psutil.cpu_percent())"
      ],
      "metadata": {
        "id": "csNk3HyffLnd",
        "colab": {
          "base_uri": "https://localhost:8080/"
        },
        "outputId": "0cff6aa7-cdd7-440d-db33-08517a1cc568"
      },
      "execution_count": null,
      "outputs": [
        {
          "output_type": "stream",
          "name": "stdout",
          "text": [
            "66.7\n"
          ]
        }
      ]
    },
    {
      "cell_type": "code",
      "source": [
        "spark = SparkSession.builder.appName(\"Sales Analysis\").getOrCreate()\n",
        "print(psutil.cpu_percent())"
      ],
      "metadata": {
        "id": "KGjl7HcEfNpR",
        "colab": {
          "base_uri": "https://localhost:8080/"
        },
        "outputId": "6fb5a90b-f892-4340-e1cf-8207eaf37376"
      },
      "execution_count": null,
      "outputs": [
        {
          "output_type": "stream",
          "name": "stdout",
          "text": [
            "100.0\n"
          ]
        }
      ]
    },
    {
      "cell_type": "code",
      "source": [
        "import time\n",
        "mulai_ukur = time.time()"
      ],
      "metadata": {
        "id": "Li4C8f_4tS4S"
      },
      "execution_count": null,
      "outputs": []
    },
    {
      "cell_type": "code",
      "source": [
        "df = spark.read.csv(\"Sales Transaction v.4a.csv\", header=True, inferSchema=True)\n",
        "print(psutil.cpu_percent())"
      ],
      "metadata": {
        "id": "Y4hRJCx2fPph",
        "colab": {
          "base_uri": "https://localhost:8080/"
        },
        "outputId": "031b9bf7-3b62-4745-de48-e3cf55acdbd3"
      },
      "execution_count": null,
      "outputs": [
        {
          "output_type": "stream",
          "name": "stdout",
          "text": [
            "93.8\n"
          ]
        }
      ]
    },
    {
      "cell_type": "code",
      "source": [
        "from pyspark.sql.functions import date_format, to_date\n",
        "df = df.withColumn(\"Date\", to_date(df[\"Date\"], \"MM/dd/yy\"))\n",
        "print(psutil.cpu_percent())"
      ],
      "metadata": {
        "colab": {
          "base_uri": "https://localhost:8080/"
        },
        "id": "GHBUrXJwkAtr",
        "outputId": "eb89d975-51a4-4128-a405-df1dc0472440"
      },
      "execution_count": null,
      "outputs": [
        {
          "output_type": "stream",
          "name": "stdout",
          "text": [
            "83.3\n"
          ]
        }
      ]
    },
    {
      "cell_type": "code",
      "source": [
        "df.show(10)\n",
        "print(psutil.cpu_percent())"
      ],
      "metadata": {
        "colab": {
          "base_uri": "https://localhost:8080/"
        },
        "id": "rD-F-8mcfvYE",
        "outputId": "aab08827-7506-4371-be98-9e21264f946f"
      },
      "execution_count": null,
      "outputs": [
        {
          "output_type": "stream",
          "name": "stdout",
          "text": [
            "+-------------+----------+---------+--------------------+-----+--------+----------+--------------+\n",
            "|TransactionNo|      Date|ProductNo|         ProductName|Price|Quantity|CustomerNo|       Country|\n",
            "+-------------+----------+---------+--------------------+-----+--------+----------+--------------+\n",
            "|       581482|2019-12-09|    22485|Set Of 2 Wooden M...|21.47|      12|     17490|United Kingdom|\n",
            "|       581475|2019-12-09|    22596|Christmas Star Wi...|10.65|      36|     13069|United Kingdom|\n",
            "|       581475|2019-12-09|    23235|Storage Tin Vinta...|11.53|      12|     13069|United Kingdom|\n",
            "|       581475|2019-12-09|    23272|Tree T-Light Hold...|10.65|      12|     13069|United Kingdom|\n",
            "|       581475|2019-12-09|    23239|Set Of 4 Knick Kn...|11.94|       6|     13069|United Kingdom|\n",
            "|       581475|2019-12-09|    21705|Bag 500g Swirly M...|10.65|      24|     13069|United Kingdom|\n",
            "|       581475|2019-12-09|    22118|Joy Wooden Block ...|11.53|      18|     13069|United Kingdom|\n",
            "|       581475|2019-12-09|    22119|Peace Wooden Bloc...|12.25|      12|     13069|United Kingdom|\n",
            "|       581475|2019-12-09|    22217|T-Light Holder Ha...|10.65|      12|     13069|United Kingdom|\n",
            "|       581475|2019-12-09|    22216|T-Light Holder Wh...|10.55|      24|     13069|United Kingdom|\n",
            "+-------------+----------+---------+--------------------+-----+--------+----------+--------------+\n",
            "only showing top 10 rows\n",
            "\n",
            "100.0\n"
          ]
        }
      ]
    },
    {
      "cell_type": "code",
      "source": [
        "df.createOrReplaceTempView(\"sales\")\n",
        "print(psutil.cpu_percent())"
      ],
      "metadata": {
        "id": "XnKHeKjRf0zi",
        "colab": {
          "base_uri": "https://localhost:8080/"
        },
        "outputId": "e48a1ceb-ed30-40c5-c91d-ef46b32372f5"
      },
      "execution_count": null,
      "outputs": [
        {
          "output_type": "stream",
          "name": "stdout",
          "text": [
            "100.0\n"
          ]
        }
      ]
    },
    {
      "cell_type": "code",
      "source": [
        "product_terlaris = spark.sql(\"SELECT productNo, productName, SUM(quantity) as total_terjual FROM sales GROUP BY productNo, productName ORDER BY total_terjual DESC LIMIT 10\")\n",
        "print(\"Produk terlaris dengan jumlah penjualannya\" )\n",
        "product_terlaris.show()\n",
        "print(psutil.cpu_percent())"
      ],
      "metadata": {
        "id": "wKbxoecigCBh",
        "colab": {
          "base_uri": "https://localhost:8080/"
        },
        "outputId": "d815402a-2cbb-4c33-ad7d-d919d6502d90"
      },
      "execution_count": null,
      "outputs": [
        {
          "output_type": "stream",
          "name": "stdout",
          "text": [
            "Produk terlaris dengan jumlah penjualannya\n",
            "+---------+--------------------+-------------+\n",
            "|productNo|         productName|total_terjual|\n",
            "+---------+--------------------+-------------+\n",
            "|    22197|      Popcorn Holder|        56450|\n",
            "|    84077|World War 2 Glide...|        53847|\n",
            "|   85099B|Jumbo Bag Red Ret...|        47363|\n",
            "|    84879|Assorted Colour B...|        36445|\n",
            "|    21212|Pack Of 72 Retros...|        36231|\n",
            "|   85123A|Cream Hanging Hea...|        35378|\n",
            "|    23084|  Rabbit Night Light|        30680|\n",
            "|    22492|Mini Paint Set Vi...|        26437|\n",
            "|    22616|Pack Of 12 London...|        25907|\n",
            "|    21977|Pack Of 60 Pink P...|        24753|\n",
            "+---------+--------------------+-------------+\n",
            "\n",
            "96.9\n"
          ]
        }
      ]
    },
    {
      "cell_type": "code",
      "source": [
        "pelanggan_setia = spark.sql(\"SELECT customerNo, COUNT(*) as total_transaksi FROM sales GROUP BY customerNo ORDER BY total_transaksi DESC LIMIT 10\")\n",
        "print(\"Pelanggan setia dengan jumlah transaksi yang dilakukannya\")\n",
        "pelanggan_setia.show()\n",
        "print(psutil.cpu_percent())"
      ],
      "metadata": {
        "id": "PaaKXFDXgZzv",
        "colab": {
          "base_uri": "https://localhost:8080/"
        },
        "outputId": "c7a73920-c141-4895-bb7e-6dac2a40aabc"
      },
      "execution_count": null,
      "outputs": [
        {
          "output_type": "stream",
          "name": "stdout",
          "text": [
            "Pelanggan setia dengan jumlah transaksi yang dilakukannya\n",
            "+----------+---------------+\n",
            "|customerNo|total_transaksi|\n",
            "+----------+---------------+\n",
            "|     17841|           7967|\n",
            "|     14911|           5800|\n",
            "|     14096|           5093|\n",
            "|     12748|           4627|\n",
            "|     14606|           2773|\n",
            "|     15311|           2464|\n",
            "|     14646|           2066|\n",
            "|     13089|           1888|\n",
            "|     13263|           1672|\n",
            "|     14298|           1640|\n",
            "+----------+---------------+\n",
            "\n",
            "96.5\n"
          ]
        }
      ]
    },
    {
      "cell_type": "code",
      "source": [
        "negara_penjualan_tertinggi = spark.sql(\"SELECT country, SUM(Price) as pendapatan FROM sales GROUP BY country ORDER BY pendapatan DESC LIMIT 10\")\n",
        "print(\"Negara dengan angka pendapatan penjualan tertinggi\")\n",
        "negara_penjualan_tertinggi.show()\n",
        "print(psutil.cpu_percent())"
      ],
      "metadata": {
        "id": "Hfbc3VmIg1cB",
        "colab": {
          "base_uri": "https://localhost:8080/"
        },
        "outputId": "39159a42-38de-47bd-8e03-1be745b86466"
      },
      "execution_count": null,
      "outputs": [
        {
          "output_type": "stream",
          "name": "stdout",
          "text": [
            "Negara dengan angka pendapatan penjualan tertinggi\n",
            "+--------------+------------------+\n",
            "|       country|        pendapatan|\n",
            "+--------------+------------------+\n",
            "|United Kingdom| 6138222.879999699|\n",
            "|       Germany| 134465.6999999991|\n",
            "|        France|130757.04999999912|\n",
            "|          EIRE|104928.15999999884|\n",
            "|       Belgium| 33477.43000000011|\n",
            "|         Spain|32597.640000000138|\n",
            "|   Switzerland|30526.950000000146|\n",
            "|   Netherlands|27700.860000000088|\n",
            "|      Portugal| 22151.31000000004|\n",
            "|     Australia|21767.810000000056|\n",
            "+--------------+------------------+\n",
            "\n",
            "96.1\n"
          ]
        }
      ]
    },
    {
      "cell_type": "code",
      "source": [
        "negara_transaksi_tertinggi = spark.sql(\"SELECT country, COUNT(transactionNo) as total_transaksi FROM sales GROUP BY country ORDER BY total_transaksi DESC LIMIT 10\")\n",
        "print(\"Negara dengan jumlah transaksi tertinggi\")\n",
        "negara_transaksi_tertinggi.show()\n",
        "print(psutil.cpu_percent())"
      ],
      "metadata": {
        "colab": {
          "base_uri": "https://localhost:8080/"
        },
        "id": "jH_rEx0-2Vd1",
        "outputId": "1a70f651-a48c-4283-9413-742a3c201a89"
      },
      "execution_count": null,
      "outputs": [
        {
          "output_type": "stream",
          "name": "stdout",
          "text": [
            "Negara dengan jumlah transaksi tertinggi\n",
            "+--------------+---------------+\n",
            "|       country|total_transaksi|\n",
            "+--------------+---------------+\n",
            "|United Kingdom|         485095|\n",
            "|       Germany|          10675|\n",
            "|        France|          10526|\n",
            "|          EIRE|           8048|\n",
            "|       Belgium|           2539|\n",
            "|         Spain|           2430|\n",
            "|   Switzerland|           2336|\n",
            "|   Netherlands|           2330|\n",
            "|      Portugal|           1848|\n",
            "|     Australia|           1704|\n",
            "+--------------+---------------+\n",
            "\n",
            "99.6\n"
          ]
        }
      ]
    },
    {
      "cell_type": "code",
      "source": [
        "quantity_terbanyak = spark.sql(\"SELECT quantity, COUNT(*) as jumlah FROM sales GROUP BY quantity ORDER BY jumlah DESC LIMIT 10\")\n",
        "print(\"Berapa banyak item yang dibeli dalam satu transaksi\")\n",
        "quantity_terbanyak.show()\n",
        "print(psutil.cpu_percent())"
      ],
      "metadata": {
        "id": "Iit3_uhdhDNb",
        "colab": {
          "base_uri": "https://localhost:8080/"
        },
        "outputId": "2a3e17c5-f816-4786-a4fc-2290f0272091"
      },
      "execution_count": null,
      "outputs": [
        {
          "output_type": "stream",
          "name": "stdout",
          "text": [
            "Berapa banyak item yang dibeli dalam satu transaksi\n",
            "+--------+------+\n",
            "|quantity|jumlah|\n",
            "+--------+------+\n",
            "|       1|146400|\n",
            "|       2| 81362|\n",
            "|      12| 61040|\n",
            "|       6| 40771|\n",
            "|       4| 38337|\n",
            "|       3| 36785|\n",
            "|      24| 24001|\n",
            "|      10| 22265|\n",
            "|       8| 13085|\n",
            "|       5| 11659|\n",
            "+--------+------+\n",
            "\n",
            "100.0\n"
          ]
        }
      ]
    },
    {
      "cell_type": "code",
      "source": [
        "total_pendapatan_per_produk = spark.sql(\"SELECT productNo, productName, SUM(Price * Quantity) AS pendapatan FROM sales GROUP BY productNo, productName ORDER BY pendapatan DESC LIMIT 10\")\n",
        "print(\"Total pendapatan per produk\")\n",
        "total_pendapatan_per_produk.show()\n",
        "print(psutil.cpu_percent())"
      ],
      "metadata": {
        "colab": {
          "base_uri": "https://localhost:8080/"
        },
        "id": "Fdj99m6BjeSq",
        "outputId": "ed6cff8b-a2f3-4393-9d48-189e58ab3897"
      },
      "execution_count": null,
      "outputs": [
        {
          "output_type": "stream",
          "name": "stdout",
          "text": [
            "Total pendapatan per produk\n",
            "+---------+--------------------+------------------+\n",
            "|productNo|         productName|        pendapatan|\n",
            "+---------+--------------------+------------------+\n",
            "|    22197|      Popcorn Holder| 583286.5100000016|\n",
            "|    84077|World War 2 Glide...| 557170.4299999994|\n",
            "|    23843|Paper Craft Littl...|501359.05000000005|\n",
            "|   85123A|Cream Hanging Hea...| 451401.6999999961|\n",
            "|    84879|Assorted Colour B...| 420743.6999999965|\n",
            "|    21212|Pack Of 72 Retros...|388424.61000000045|\n",
            "|    23084|  Rabbit Night Light| 327794.2100000003|\n",
            "|   85099B|Jumbo Bag Red Ret...|         290474.52|\n",
            "|    22423|Regency Cakestand...| 289288.6000000014|\n",
            "|    22492|Mini Paint Set Vi...| 284870.9199999996|\n",
            "+---------+--------------------+------------------+\n",
            "\n",
            "100.0\n"
          ]
        }
      ]
    },
    {
      "cell_type": "code",
      "source": [
        "mean_pendapatan_per_transaksi = spark.sql(\"SELECT AVG(price*quantity) as mean_pendapatan from sales\")\n",
        "print(\"Rata-rata pendapatan per transaksi\")\n",
        "mean_pendapatan_per_transaksi.show()\n",
        "print(psutil.cpu_percent())"
      ],
      "metadata": {
        "colab": {
          "base_uri": "https://localhost:8080/"
        },
        "id": "_qPCLcm4opFX",
        "outputId": "715f7376-37cc-4d5d-95ef-ab7ae3a054c6"
      },
      "execution_count": null,
      "outputs": [
        {
          "output_type": "stream",
          "name": "stdout",
          "text": [
            "Rata-rata pendapatan per transaksi\n",
            "+------------------+\n",
            "|   mean_pendapatan|\n",
            "+------------------+\n",
            "|112.38934326464263|\n",
            "+------------------+\n",
            "\n",
            "97.3\n"
          ]
        }
      ]
    },
    {
      "cell_type": "code",
      "source": [
        "pendapatan_per_hari = spark.sql(\"SELECT DATE_FORMAT(Date, 'EEEE') as hari, SUM(price*quantity) as pendapatan FROM sales GROUP BY DATE_FORMAT(Date, 'EEEE') ORDER BY pendapatan DESC\")\n",
        "print(\"Pendapatan per hari\")\n",
        "pendapatan_per_hari.show()\n",
        "print(psutil.cpu_percent())"
      ],
      "metadata": {
        "colab": {
          "base_uri": "https://localhost:8080/"
        },
        "id": "9p4OEK85jnk3",
        "outputId": "fc8a567d-545b-4b8a-a988-c104396626dc"
      },
      "execution_count": null,
      "outputs": [
        {
          "output_type": "stream",
          "name": "stdout",
          "text": [
            "Pendapatan per hari\n",
            "+---------+--------------------+\n",
            "|     hari|          pendapatan|\n",
            "+---------+--------------------+\n",
            "|   Sunday|1.3148277890000954E7|\n",
            "|   Friday|1.1627657050000742E7|\n",
            "| Saturday| 1.098026104000066E7|\n",
            "|   Monday|   9668112.040000133|\n",
            "| Thursday|   9553636.510000272|\n",
            "|Wednesday|   5302079.730000019|\n",
            "+---------+--------------------+\n",
            "\n",
            "96.7\n"
          ]
        }
      ]
    },
    {
      "cell_type": "code",
      "source": [
        "pendapatan_harian = spark.sql(\"SELECT Date, SUM(price*quantity) as pendapatan FROM sales GROUP BY Date ORDER BY pendapatan DESC LIMIT 20\")\n",
        "print(\"Pendapatan tertinggi pada tanggal tertentu\")\n",
        "pendapatan_harian.show()\n",
        "print(psutil.cpu_percent())"
      ],
      "metadata": {
        "colab": {
          "base_uri": "https://localhost:8080/"
        },
        "id": "HiswWH570SVY",
        "outputId": "e7894250-baa2-4972-e473-9dd0b89951e1"
      },
      "execution_count": null,
      "outputs": [
        {
          "output_type": "stream",
          "name": "stdout",
          "text": [
            "Pendapatan tertinggi pada tanggal tertentu\n",
            "+----------+------------------+\n",
            "|      Date|        pendapatan|\n",
            "+----------+------------------+\n",
            "|2019-12-09| 604502.1099999545|\n",
            "|2019-11-14| 561052.5099999988|\n",
            "|2019-09-20| 548012.4900000009|\n",
            "|2019-10-05| 515992.0800000009|\n",
            "|2019-10-20|469122.96000000305|\n",
            "|2019-11-10|443115.77000000037|\n",
            "|2019-08-11| 436995.2399999996|\n",
            "|2019-08-04| 425920.6899999995|\n",
            "|2019-05-12| 424704.4700000015|\n",
            "|2019-09-13|408521.27999999817|\n",
            "|2019-11-04|405865.65000000177|\n",
            "|2019-11-03| 400474.4599999992|\n",
            "|2019-11-09|388492.93000000017|\n",
            "|2019-03-29|380529.83999999886|\n",
            "|2019-08-18| 378588.3900000008|\n",
            "|2019-11-07| 377907.9699999999|\n",
            "|2019-11-16| 374638.6499999993|\n",
            "|2019-09-22| 374254.0999999997|\n",
            "|2019-11-17|369593.02999999904|\n",
            "|2019-10-27| 367929.0699999986|\n",
            "+----------+------------------+\n",
            "\n",
            "99.7\n"
          ]
        }
      ]
    },
    {
      "cell_type": "code",
      "source": [
        "pendapatan_bulanan = spark.sql(\"SELECT MONTH(Date) as bulan, SUM(Price*quantity) as pendapatan FROM sales GROUP BY bulan ORDER BY pendapatan DESC\")\n",
        "print(\"Pendapatan per bulan\")\n",
        "pendapatan_bulanan.show()\n",
        "print(psutil.cpu_percent())"
      ],
      "metadata": {
        "colab": {
          "base_uri": "https://localhost:8080/"
        },
        "id": "OuOXlVn40t10",
        "outputId": "14361328-6848-459f-fee0-88cdaf2f6053"
      },
      "execution_count": null,
      "outputs": [
        {
          "output_type": "stream",
          "name": "stdout",
          "text": [
            "Pendapatan per bulan\n",
            "+-----+------------------+\n",
            "|bulan|        pendapatan|\n",
            "+-----+------------------+\n",
            "|   11| 7745257.920000276|\n",
            "|   10|   6971407.8200005|\n",
            "|    9| 6542706.300000425|\n",
            "|   12|  6228326.09999924|\n",
            "|    8| 4614243.550000117|\n",
            "|    5| 4530850.360000112|\n",
            "|    7| 4518347.920000061|\n",
            "|    6| 4410422.289999971|\n",
            "|    3|4353308.7800000375|\n",
            "|    1|3649506.4200000744|\n",
            "|    4|3416109.2399999956|\n",
            "|    2| 3299537.560000079|\n",
            "+-----+------------------+\n",
            "\n",
            "98.6\n"
          ]
        }
      ]
    },
    {
      "cell_type": "code",
      "source": [
        "print(psutil.cpu_percent())\n",
        "selesai_ukur = time.time()"
      ],
      "metadata": {
        "id": "kogSeEDlqt6G",
        "colab": {
          "base_uri": "https://localhost:8080/"
        },
        "outputId": "909316a9-be80-4882-aed2-069b229e7f10"
      },
      "execution_count": null,
      "outputs": [
        {
          "output_type": "stream",
          "name": "stdout",
          "text": [
            "100.0\n"
          ]
        }
      ]
    },
    {
      "cell_type": "code",
      "source": [
        "total_waktu = selesai_ukur - mulai_ukur\n",
        "print(\"Waktu yang dibutuhkan untuk melakukan komputasi: %f detik\" % total_waktu )"
      ],
      "metadata": {
        "colab": {
          "base_uri": "https://localhost:8080/"
        },
        "id": "9QDMfzVBteOh",
        "outputId": "6058d607-eadf-49d0-fa82-ee2620824852"
      },
      "execution_count": null,
      "outputs": [
        {
          "output_type": "stream",
          "name": "stdout",
          "text": [
            "Waktu yang dibutuhkan untuk melakukan komputasi: 27.690947 detik\n"
          ]
        }
      ]
    }
  ]
}