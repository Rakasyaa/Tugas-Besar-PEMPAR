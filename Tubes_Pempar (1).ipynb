{
  "cells": [
    {
      "cell_type": "markdown",
      "metadata": {
        "id": "xm2BgSwrb61O"
      },
      "source": [
        "# Big Assignment of Parallel Processing (Class A)\n",
        "## Sales Transaction Data Analysis Using Pyspark\\\n",
        "\n",
        "1. siapa dah (nim)\n",
        "\n",
        "Kaggle link for the dataset: https://www.kaggle.com/datasets/gabrielramos87/an-online-shop-business"
      ]
    },
    {
      "cell_type": "code",
      "execution_count": 2,
      "metadata": {
        "colab": {
          "base_uri": "https://localhost:8080/"
        },
        "id": "200OpIj5fS43",
        "outputId": "0b299341-e6ef-4cb7-e4a7-d05e34f21713"
      },
      "outputs": [
        {
          "name": "stdout",
          "output_type": "stream",
          "text": [
            "1.4\n"
          ]
        }
      ],
      "source": [
        "import psutil\n",
        "print(psutil.cpu_percent())"
      ]
    },
    {
      "cell_type": "code",
      "execution_count": 1,
      "metadata": {
        "colab": {
          "base_uri": "https://localhost:8080/"
        },
        "id": "MdnGA0QqYQar",
        "outputId": "684200c8-3197-4e71-f70a-5654e821bcf5"
      },
      "outputs": [],
      "source": [
        "# %pip install pyspark\n",
        "# %pip install mpi4py\n",
        "# print(psutil.cpu_percent())"
      ]
    },
    {
      "cell_type": "code",
      "execution_count": 3,
      "metadata": {
        "colab": {
          "base_uri": "https://localhost:8080/"
        },
        "id": "csNk3HyffLnd",
        "outputId": "0cff6aa7-cdd7-440d-db33-08517a1cc568"
      },
      "outputs": [
        {
          "name": "stdout",
          "output_type": "stream",
          "text": [
            "1.9\n"
          ]
        }
      ],
      "source": [
        "from mpi4py import MPI\n",
        "from pyspark.sql import SparkSession\n",
        "import pandas as pd\n",
        "import numpy as np\n",
        "print(psutil.cpu_percent())"
      ]
    },
    {
      "cell_type": "code",
      "execution_count": 4,
      "metadata": {
        "colab": {
          "base_uri": "https://localhost:8080/"
        },
        "id": "KGjl7HcEfNpR",
        "outputId": "6fb5a90b-f892-4340-e1cf-8207eaf37376"
      },
      "outputs": [
        {
          "name": "stdout",
          "output_type": "stream",
          "text": [
            "1.8\n"
          ]
        }
      ],
      "source": [
        "spark = SparkSession.builder.appName(\"Game Sales Analysis\").getOrCreate()\n",
        "print(psutil.cpu_percent())"
      ]
    },
    {
      "cell_type": "code",
      "execution_count": null,
      "metadata": {
        "id": "Li4C8f_4tS4S"
      },
      "outputs": [],
      "source": [
        "import time\n",
        "mulai_ukur = time.time()"
      ]
    },
    {
      "cell_type": "code",
      "execution_count": 5,
      "metadata": {
        "colab": {
          "base_uri": "https://localhost:8080/"
        },
        "id": "Y4hRJCx2fPph",
        "outputId": "031b9bf7-3b62-4745-de48-e3cf55acdbd3"
      },
      "outputs": [
        {
          "name": "stdout",
          "output_type": "stream",
          "text": [
            "2.0\n"
          ]
        }
      ],
      "source": [
        "df = spark.read.csv(\"game_info.csv\", header=True, inferSchema=True)\n",
        "print(psutil.cpu_percent())"
      ]
    },
    {
      "cell_type": "code",
      "execution_count": 7,
      "metadata": {
        "colab": {
          "base_uri": "https://localhost:8080/"
        },
        "id": "rD-F-8mcfvYE",
        "outputId": "aab08827-7506-4371-be98-9e21264f946f"
      },
      "outputs": [
        {
          "name": "stdout",
          "output_type": "stream",
          "text": [
            "+------+--------------------+--------------------+----------+----------+-----+-------------------+--------------------+------+----------+--------+------------------+-------------+-----------------+-----------------+-------------+--------------------+--------------------+--------------------+--------------------+------------+----------------+------------------+-------------------+-------------------+--------------------+--------------------+\n",
            "|    id|                slug|                name|metacritic|  released|  tba|            updated|             website|rating|rating_top|playtime|achievements_count|ratings_count|suggestions_count|game_series_count|reviews_count|           platforms|          developers|              genres|          publishers| esrb_rating|added_status_yet|added_status_owned|added_status_beaten|added_status_toplay|added_status_dropped|added_status_playing|\n",
            "+------+--------------------+--------------------+----------+----------+-----+-------------------+--------------------+------+----------+--------+------------------+-------------+-----------------+-----------------+-------------+--------------------+--------------------+--------------------+--------------------+------------+----------------+------------------+-------------------+-------------------+--------------------+--------------------+\n",
            "|     1|      dgeneration-hd|     D/Generation HD|      NULL|2015-10-23|False|2019-09-17T11:58:57|http://dgeneratio...|   0.0|       0.0|     1.0|                80|            2|              292|                0|            4|PC||macOS||Xbox O...| West Coast Software|   Adventure||Puzzle| West Coast Software|Everyone 10+|               4|                88|                  2|                  2|                   0|                   0|\n",
            "|    10|             g-prime|G Prime Into The ...|      NULL|2016-01-06|False|2019-11-06T23:04:19|                NULL|   0.0|       0.0|     0.0|                26|            3|              389|                0|            3| macOS||PC||Xbox One|          Soma Games|   Simulation||Indie|Immanitas Enterta...|    Everyone|               2|                42|                  2|                  0|                   0|                   0|\n",
            "|   100|        land-sliders|        Land Sliders|      NULL|2015-09-24|False|2019-10-22T13:56:16|http://prettygrea...|   0.0|       0.0|     0.0|                 0|            2|               83|                0|            2|                 iOS|     Prettygreat Pty|   Adventure||Arcade|     Prettygreat Pty|Everyone 10+|               0|                 2|                  2|                  0|                   1|                   0|\n",
            "|  1000|          pixel-gear|          Pixel Gear|      NULL|2016-10-20|False|2019-08-28T22:16:02|https://www.faceb...|   0.0|       0.0|     0.0|                 0|            0|              455|                0|            0|   PC||PlayStation 4|Oasis Games||Gero...|       Action||Indie|Geronimo Interactive|        Teen|               0|                 1|                  0|                  0|                   0|                   0|\n",
            "| 10000|      gods-and-idols|      Gods and Idols|      NULL|2016-12-12|False|2019-09-17T13:37:13|http://www.godsan...|   0.0|       1.0|     1.0|                 0|            5|              262|                0|            5|                  PC|          Viking Tao|RPG||Strategy||Ma...|          Viking Tao|        NULL|               2|                79|                  0|                  0|                   0|                   0|\n",
            "|100000|        plague-venue|        Plague venue|      NULL|2017-12-02|False|2019-01-09T12:41:06|                NULL|   0.0|       0.0|     0.0|                 0|            0|               40|                0|            0|                 Web|Alexander Ponomariov|                NULL|                NULL|        NULL|               0|                 0|                  0|                  0|                   0|                   0|\n",
            "|100001|the-moon-sliver-itch|The Moon Sliver (...|      NULL|2014-05-03|False|2019-01-09T12:41:06|                NULL|   0.0|       0.0|     0.0|                 0|            0|              116|                0|            0|           PC||macOS|     David Szymanski|           Adventure|                NULL|        NULL|               0|                 0|                  0|                  0|                   0|                   0|\n",
            "|100002|          red-entity|          Red Entity|      NULL|2014-08-26|False|2019-01-09T12:41:06|                NULL|   0.0|       0.0|     0.0|                 0|            0|               39|                0|            0|    PC||macOS||Linux|                woof|     Action||Shooter|                NULL|        NULL|               0|                 0|                  0|                  0|                   0|                   0|\n",
            "|100004|       hippiesvscops|       HippiesVsCops|      NULL|2016-04-18|False|2019-08-28T23:25:11|                NULL|   0.0|       0.0|     0.0|                 0|            0|               26|                0|            0|                  PC|       alegaroficial|            Strategy|                NULL|        NULL|               0|                 0|                  0|                  0|                   0|                   0|\n",
            "|100005|they-came-through...|They Came Through...|      NULL|2018-06-24|False|2019-01-09T12:41:06|                NULL|   0.0|       0.0|     0.0|                 0|            0|               98|                0|            0|                  PC|        Atte Okkonen|          Platformer|                NULL|        NULL|               0|                 0|                  0|                  0|                   0|                   0|\n",
            "+------+--------------------+--------------------+----------+----------+-----+-------------------+--------------------+------+----------+--------+------------------+-------------+-----------------+-----------------+-------------+--------------------+--------------------+--------------------+--------------------+------------+----------------+------------------+-------------------+-------------------+--------------------+--------------------+\n",
            "only showing top 10 rows\n",
            "0.5\n"
          ]
        }
      ],
      "source": [
        "df.show(10)\n",
        "print(psutil.cpu_percent())"
      ]
    },
    {
      "cell_type": "code",
      "execution_count": 5,
      "metadata": {},
      "outputs": [
        {
          "name": "stderr",
          "output_type": "stream",
          "text": [
            "C:\\Users\\yoga7.RAKASYA\\AppData\\Local\\Packages\\PythonSoftwareFoundation.Python.3.11_qbz5n2kfra8p0\\LocalCache\\local-packages\\Python311\\site-packages\\numpy\\_core\\fromnumeric.py:57: FutureWarning: 'DataFrame.swapaxes' is deprecated and will be removed in a future version. Please use 'DataFrame.transpose' instead.\n",
            "  return bound(*args, **kwds)\n"
          ]
        },
        {
          "name": "stdout",
          "output_type": "stream",
          "text": [
            "Total ratings_count untuk metacritic > 80: 427925\n"
          ]
        }
      ],
      "source": [
        "comm = MPI.COMM_WORLD\n",
        "rank = comm.Get_rank()\n",
        "size = comm.Get_size()\n",
        "\n",
        "# Load CSV hanya di rank 0\n",
        "df = None\n",
        "if rank == 0:\n",
        "    df = pd.read_csv(\"game_info.csv\")\n",
        "    chunks = np.array_split(df, size)\n",
        "else:\n",
        "    chunks = None\n",
        "\n",
        "# Broadcast potongan data\n",
        "local_chunk = comm.scatter(chunks, root=0)\n",
        "\n",
        "# FILTER: metacritic > 80\n",
        "filtered_chunk = local_chunk[local_chunk[\"metacritic\"] > 80]\n",
        "\n",
        "# REDUCE: jumlah ratings_count\n",
        "local_sum = filtered_chunk[\"ratings_count\"].sum()\n",
        "total_sum = comm.reduce(local_sum, op=MPI.SUM, root=0)\n",
        "\n",
        "if rank == 0:\n",
        "    print(\"Total ratings_count untuk metacritic > 80:\", total_sum)\n"
      ]
    },
    {
      "cell_type": "code",
      "execution_count": 1,
      "metadata": {},
      "outputs": [
        {
          "name": "stdout",
          "output_type": "stream",
          "text": [
            "Total ratings_count (PySpark): 427925\n"
          ]
        }
      ],
      "source": [
        "from pyspark import SparkContext\n",
        "import csv\n",
        "\n",
        "sc = SparkContext()\n",
        "\n",
        "rdd = sc.textFile(\"game_info.csv\")\n",
        "header = rdd.first()\n",
        "data = rdd.filter(lambda x: x != header).map(lambda row: next(csv.reader([row])))\n",
        "\n",
        "# FILTER: metacritic > 80\n",
        "filtered = data.filter(lambda x: x[3] and x[3].isdigit() and int(x[3]) > 80)\n",
        "\n",
        "# REDUCE: total ratings_count\n",
        "ratings_count_index = 12  # Sesuaikan jika urutan kolom berubah\n",
        "ratings = filtered.map(lambda x: int(x[ratings_count_index]) if x[ratings_count_index].isdigit() else 0)\n",
        "total = ratings.reduce(lambda a, b: a + b)\n",
        "\n",
        "print(\"Total ratings_count (PySpark):\", total)\n"
      ]
    },
    {
      "cell_type": "code",
      "execution_count": 15,
      "metadata": {},
      "outputs": [
        {
          "name": "stdout",
          "output_type": "stream",
          "text": [
            "Hasil Query:\n",
            "+--------------------+--------------------+-------------+\n",
            "|                name|              rating|ratings_count|\n",
            "+--------------------+--------------------+-------------+\n",
            "|        \"The \"\"Quiet|http://www.nostat...|            0|\n",
            "|\"Электроника ИМ-0...|http://facebook.c...|            0|\n",
            "|           Diablo IV|                 5.0|            5|\n",
            "|The World Ends wi...|                4.86|            7|\n",
            "|Astro Boy: Omega ...|                4.83|            6|\n",
            "|         Hide Online|                4.83|            6|\n",
            "|       Kara no Shojo|                4.83|            6|\n",
            "|     Persona 5 Royal|                4.81|          118|\n",
            "|Shovel Knight: Sh...|                4.78|            9|\n",
            "|The Witcher 3: Ga...|                4.77|          439|\n",
            "| Mass Effect Trilogy|                4.76|          104|\n",
            "|The Witcher 3: Wi...|                4.75|          334|\n",
            "|METAL GEAR SOLID ...|                4.75|           23|\n",
            "|Cataclysm: Dark D...|                4.75|            7|\n",
            "|The Witcher 3: Wi...|                4.74|          391|\n",
            "|Grand Theft Auto ...|                4.73|           15|\n",
            "|Yakuza: Like a Dr...|                4.73|           14|\n",
            "|   The Dream Machine|                4.71|            7|\n",
            "|Harvest Moon: Fri...|                4.71|            7|\n",
            "|        Smile For Me|                4.71|            7|\n",
            "+--------------------+--------------------+-------------+\n",
            "\n"
          ]
        }
      ],
      "source": [
        "from pyspark.sql import SparkSession\n",
        "\n",
        "spark = SparkSession.builder.appName(\"GameProcessing\").getOrCreate()\n",
        "\n",
        "df = spark.read.csv(\"game_info.csv\", header=True, inferSchema=True)\n",
        "df.createOrReplaceTempView(\"games\")\n",
        "\n",
        "# Contoh Query: Ambil game dengan metacritic > 80 dan tampilkan 5 teratas\n",
        "result = spark.sql(\"\"\"\n",
        "    SELECT name, rating, ratings_count\n",
        "    FROM games\n",
        "    WHERE rating IS NOT NULL\n",
        "    ORDER BY rating DESC, ratings_count DESC\n",
        "    LIMIT 20\n",
        "\"\"\")\n",
        "\n",
        "print(\"Hasil Query:\")\n",
        "result.show()"
      ]
    }
  ],
  "metadata": {
    "colab": {
      "provenance": []
    },
    "kernelspec": {
      "display_name": "Python 3",
      "name": "python3"
    },
    "language_info": {
      "codemirror_mode": {
        "name": "ipython",
        "version": 3
      },
      "file_extension": ".py",
      "mimetype": "text/x-python",
      "name": "python",
      "nbconvert_exporter": "python",
      "pygments_lexer": "ipython3",
      "version": "3.11.9"
    }
  },
  "nbformat": 4,
  "nbformat_minor": 0
}
